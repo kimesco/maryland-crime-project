{
 "cells": [
  {
   "cell_type": "code",
   "execution_count": null,
   "metadata": {},
   "outputs": [],
   "source": [
    "import requests\n",
    "import json\n",
    "\n",
    "import pandas as pd"
   ]
  },
  {
   "cell_type": "code",
   "execution_count": null,
   "metadata": {},
   "outputs": [],
   "source": [
    "#Grab API Endpoint\n",
    "resp = requests.get(\"https://opendata.maryland.gov/resource/jwfa-fdxs.json\")\n",
    "resp.status_code"
   ]
  },
  {
   "cell_type": "code",
   "execution_count": null,
   "metadata": {},
   "outputs": [],
   "source": [
    "resp.headers['content-type']"
   ]
  },
  {
   "cell_type": "code",
   "execution_count": null,
   "metadata": {},
   "outputs": [],
   "source": [
    "resp_obj = resp.json()\n",
    "\n",
    "resp_obj"
   ]
  },
  {
   "cell_type": "code",
   "execution_count": null,
   "metadata": {},
   "outputs": [],
   "source": [
    "#Find number of bytes\n",
    "print(\"The number of bytes is \" + str(len(json.dumps(resp_obj))))"
   ]
  },
  {
   "cell_type": "code",
   "execution_count": null,
   "metadata": {},
   "outputs": [],
   "source": [
    "#Write data in new file to store it\n",
    "with open('crimedata.json', 'w') as f:\n",
    "    json.dump(resp_obj, f)"
   ]
  },
  {
   "cell_type": "code",
   "execution_count": null,
   "metadata": {},
   "outputs": [],
   "source": [
    "#Convert JSON data to pandas dataframe\n",
    "df = pd.read_json('crimedata.json')\n",
    "\n",
    "df"
   ]
  },
  {
   "cell_type": "code",
   "execution_count": null,
   "metadata": {},
   "outputs": [],
   "source": [
    "#Clean data\n",
    "df = df.fillna(0)\n",
    "df = df.set_index(['jurisdiction', 'year'])\n",
    "\n",
    "df"
   ]
  },
  {
   "cell_type": "code",
   "execution_count": null,
   "metadata": {},
   "outputs": [],
   "source": [
    "#Create dataframe containing only total number a specific crime was committed\n",
    "df_crimes_only = df[['murder', 'rape', 'robbery', 'agg_assault', 'b_e', 'larceny_theft', 'm_v_theft']]\n",
    "\n",
    "df_crimes_only_normed = df_crimes_only.divide(df_crimes_only.sum(axis=1), axis=0)\n",
    "\n",
    "df_crimes_only_normed.head(10)"
   ]
  }
 ],
 "metadata": {
  "kernelspec": {
   "display_name": "Python 3",
   "language": "python",
   "name": "python3"
  },
  "language_info": {
   "codemirror_mode": {
    "name": "ipython",
    "version": 3
   },
   "file_extension": ".py",
   "mimetype": "text/x-python",
   "name": "python",
   "nbconvert_exporter": "python",
   "pygments_lexer": "ipython3",
   "version": "3.11.4"
  }
 },
 "nbformat": 4,
 "nbformat_minor": 2
}
